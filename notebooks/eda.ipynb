{
 "cells": [
  {
   "cell_type": "code",
   "execution_count": 245,
   "id": "ec9def0b",
   "metadata": {},
   "outputs": [],
   "source": [
    "import pandas as pd\n",
    "import spacy\n",
    "import random\n",
    "import joblib\n",
    "\n",
    "from sklearn.feature_extraction.text import TfidfVectorizer\n",
    "from sklearn.linear_model import LogisticRegression\n",
    "from sklearn.model_selection import train_test_split\n",
    "from sklearn.metrics import classification_report\n",
    "\n",
    "nlp = spacy.load(\"en_core_web_sm\")"
   ]
  },
  {
   "cell_type": "markdown",
   "id": "43622898",
   "metadata": {},
   "source": [
    "# EDA"
   ]
  },
  {
   "cell_type": "code",
   "execution_count": 189,
   "id": "10affe73",
   "metadata": {},
   "outputs": [
    {
     "data": {
      "text/html": [
       "<div>\n",
       "<style scoped>\n",
       "    .dataframe tbody tr th:only-of-type {\n",
       "        vertical-align: middle;\n",
       "    }\n",
       "\n",
       "    .dataframe tbody tr th {\n",
       "        vertical-align: top;\n",
       "    }\n",
       "\n",
       "    .dataframe thead th {\n",
       "        text-align: right;\n",
       "    }\n",
       "</style>\n",
       "<table border=\"1\" class=\"dataframe\">\n",
       "  <thead>\n",
       "    <tr style=\"text-align: right;\">\n",
       "      <th></th>\n",
       "      <th>description</th>\n",
       "      <th>fraudulent</th>\n",
       "    </tr>\n",
       "  </thead>\n",
       "  <tbody>\n",
       "    <tr>\n",
       "      <th>0</th>\n",
       "      <td>Food52, a fast-growing, James Beard Award-winn...</td>\n",
       "      <td>0</td>\n",
       "    </tr>\n",
       "    <tr>\n",
       "      <th>1</th>\n",
       "      <td>Organised - Focused - Vibrant - Awesome!Do you...</td>\n",
       "      <td>0</td>\n",
       "    </tr>\n",
       "    <tr>\n",
       "      <th>2</th>\n",
       "      <td>Our client, located in Houston, is actively se...</td>\n",
       "      <td>0</td>\n",
       "    </tr>\n",
       "    <tr>\n",
       "      <th>3</th>\n",
       "      <td>THE COMPANY: ESRI – Environmental Systems Rese...</td>\n",
       "      <td>0</td>\n",
       "    </tr>\n",
       "    <tr>\n",
       "      <th>4</th>\n",
       "      <td>JOB TITLE: Itemization Review ManagerLOCATION:...</td>\n",
       "      <td>0</td>\n",
       "    </tr>\n",
       "  </tbody>\n",
       "</table>\n",
       "</div>"
      ],
      "text/plain": [
       "                                         description  fraudulent\n",
       "0  Food52, a fast-growing, James Beard Award-winn...           0\n",
       "1  Organised - Focused - Vibrant - Awesome!Do you...           0\n",
       "2  Our client, located in Houston, is actively se...           0\n",
       "3  THE COMPANY: ESRI – Environmental Systems Rese...           0\n",
       "4  JOB TITLE: Itemization Review ManagerLOCATION:...           0"
      ]
     },
     "execution_count": 189,
     "metadata": {},
     "output_type": "execute_result"
    }
   ],
   "source": [
    "df = pd.read_csv('../data/dataset.csv', delimiter=';')\n",
    "df.head()"
   ]
  },
  {
   "cell_type": "code",
   "execution_count": 190,
   "id": "2fca9bd6",
   "metadata": {},
   "outputs": [
    {
     "name": "stdout",
     "output_type": "stream",
     "text": [
      "<class 'pandas.core.frame.DataFrame'>\n",
      "RangeIndex: 17880 entries, 0 to 17879\n",
      "Data columns (total 2 columns):\n",
      " #   Column       Non-Null Count  Dtype \n",
      "---  ------       --------------  ----- \n",
      " 0   description  17879 non-null  object\n",
      " 1   fraudulent   17880 non-null  int64 \n",
      "dtypes: int64(1), object(1)\n",
      "memory usage: 279.5+ KB\n"
     ]
    }
   ],
   "source": [
    "df.info()"
   ]
  },
  {
   "cell_type": "code",
   "execution_count": 88,
   "id": "e7a6ba72",
   "metadata": {},
   "outputs": [
    {
     "data": {
      "text/plain": [
       "fraudulent\n",
       "0    17014\n",
       "1      866\n",
       "Name: count, dtype: int64"
      ]
     },
     "execution_count": 88,
     "metadata": {},
     "output_type": "execute_result"
    }
   ],
   "source": [
    "df['fraudulent'].value_counts()"
   ]
  },
  {
   "cell_type": "code",
   "execution_count": 89,
   "id": "55c3cb4e",
   "metadata": {},
   "outputs": [
    {
     "data": {
      "text/plain": [
       "fraudulent\n",
       "0    0.951566\n",
       "1    0.048434\n",
       "Name: proportion, dtype: float64"
      ]
     },
     "execution_count": 89,
     "metadata": {},
     "output_type": "execute_result"
    }
   ],
   "source": [
    "df['fraudulent'].value_counts(normalize=True)"
   ]
  },
  {
   "cell_type": "markdown",
   "id": "0b4733ad",
   "metadata": {},
   "source": [
    "## Thoughts and hypothesis\n",
    "\n",
    "- Binary classification\n",
    "- Very unbalanced! 95% are real vs 5% fake. Need to be careful when we assess quality of models + training the data (should I upsample the fake ones? Or downsample the good ones). \n",
    "- Accuracy is not a good measure.\n",
    "- What could differientiate real vs fake ads? Special words (scam words), length of text, external links, more words in uppercase (so careful if preprocessing and putting all to lowercase)"
   ]
  },
  {
   "cell_type": "markdown",
   "id": "b628092e",
   "metadata": {},
   "source": [
    "## To Do\n",
    "\n",
    "MVP\n",
    "- Clean dataset: duplicates, null values\n",
    "- Quick check of fraudulent ads to see if anything obvious (length of text, scam words, ...)\n",
    "- Check if language is English for all, since we ll use english language to clean\n",
    "- Create a baseline model before any preprocessing and feature engineering -> save model\n",
    "- Create API\n",
    "- Create docker image\n",
    "- Test API\n",
    "\n",
    "V2\n",
    "- Remove common english words, punctuation, ...\n",
    "- Possible feature engineering\n",
    "- Train different models (simple to more complex).\n",
    "- Test not only using accuracy as metrics\n",
    "- Redeploy best model to API"
   ]
  },
  {
   "cell_type": "markdown",
   "id": "540924ae",
   "metadata": {},
   "source": [
    "# Data cleaning"
   ]
  },
  {
   "cell_type": "code",
   "execution_count": 191,
   "id": "0e02fc21",
   "metadata": {},
   "outputs": [
    {
     "data": {
      "text/html": [
       "<div>\n",
       "<style scoped>\n",
       "    .dataframe tbody tr th:only-of-type {\n",
       "        vertical-align: middle;\n",
       "    }\n",
       "\n",
       "    .dataframe tbody tr th {\n",
       "        vertical-align: top;\n",
       "    }\n",
       "\n",
       "    .dataframe thead th {\n",
       "        text-align: right;\n",
       "    }\n",
       "</style>\n",
       "<table border=\"1\" class=\"dataframe\">\n",
       "  <thead>\n",
       "    <tr style=\"text-align: right;\">\n",
       "      <th></th>\n",
       "      <th>description</th>\n",
       "      <th>fraudulent</th>\n",
       "    </tr>\n",
       "  </thead>\n",
       "  <tbody>\n",
       "    <tr>\n",
       "      <th>17513</th>\n",
       "      <td>NaN</td>\n",
       "      <td>1</td>\n",
       "    </tr>\n",
       "  </tbody>\n",
       "</table>\n",
       "</div>"
      ],
      "text/plain": [
       "      description  fraudulent\n",
       "17513         NaN           1"
      ]
     },
     "execution_count": 191,
     "metadata": {},
     "output_type": "execute_result"
    }
   ],
   "source": [
    "df[df['description'].isnull()]"
   ]
  },
  {
   "cell_type": "code",
   "execution_count": 192,
   "id": "4a378d60",
   "metadata": {},
   "outputs": [],
   "source": [
    "df.dropna(subset=['description'], inplace=True)"
   ]
  },
  {
   "cell_type": "code",
   "execution_count": 193,
   "id": "69c610bf",
   "metadata": {},
   "outputs": [
    {
     "data": {
      "text/html": [
       "<div>\n",
       "<style scoped>\n",
       "    .dataframe tbody tr th:only-of-type {\n",
       "        vertical-align: middle;\n",
       "    }\n",
       "\n",
       "    .dataframe tbody tr th {\n",
       "        vertical-align: top;\n",
       "    }\n",
       "\n",
       "    .dataframe thead th {\n",
       "        text-align: right;\n",
       "    }\n",
       "</style>\n",
       "<table border=\"1\" class=\"dataframe\">\n",
       "  <thead>\n",
       "    <tr style=\"text-align: right;\">\n",
       "      <th></th>\n",
       "      <th>description</th>\n",
       "      <th>fraudulent</th>\n",
       "    </tr>\n",
       "  </thead>\n",
       "  <tbody>\n",
       "    <tr>\n",
       "      <th>14118</th>\n",
       "      <td>\"Pride is a personal commitment.  It is an att...</td>\n",
       "      <td>0</td>\n",
       "    </tr>\n",
       "    <tr>\n",
       "      <th>4193</th>\n",
       "      <td>\"Pride is a personal commitment.  It is an att...</td>\n",
       "      <td>0</td>\n",
       "    </tr>\n",
       "    <tr>\n",
       "      <th>13528</th>\n",
       "      <td>\"We take great care of our CarePartners so the...</td>\n",
       "      <td>0</td>\n",
       "    </tr>\n",
       "    <tr>\n",
       "      <th>12007</th>\n",
       "      <td>\"We take great care of our CarePartners so the...</td>\n",
       "      <td>0</td>\n",
       "    </tr>\n",
       "    <tr>\n",
       "      <th>11806</th>\n",
       "      <td>\"We take great care of our CarePartners so the...</td>\n",
       "      <td>0</td>\n",
       "    </tr>\n",
       "    <tr>\n",
       "      <th>...</th>\n",
       "      <td>...</td>\n",
       "      <td>...</td>\n",
       "    </tr>\n",
       "    <tr>\n",
       "      <th>4520</th>\n",
       "      <td>•Prepares source data for computer entry by co...</td>\n",
       "      <td>0</td>\n",
       "    </tr>\n",
       "    <tr>\n",
       "      <th>9992</th>\n",
       "      <td>•    Answering incoming calls and securing ord...</td>\n",
       "      <td>0</td>\n",
       "    </tr>\n",
       "    <tr>\n",
       "      <th>9196</th>\n",
       "      <td>•    Answering incoming calls and securing ord...</td>\n",
       "      <td>0</td>\n",
       "    </tr>\n",
       "    <tr>\n",
       "      <th>15441</th>\n",
       "      <td>￼￼Create, maintain and adjust portfolio of ass...</td>\n",
       "      <td>0</td>\n",
       "    </tr>\n",
       "    <tr>\n",
       "      <th>8715</th>\n",
       "      <td>￼￼Create, maintain and adjust portfolio of ass...</td>\n",
       "      <td>0</td>\n",
       "    </tr>\n",
       "  </tbody>\n",
       "</table>\n",
       "<p>4268 rows × 2 columns</p>\n",
       "</div>"
      ],
      "text/plain": [
       "                                             description  fraudulent\n",
       "14118  \"Pride is a personal commitment.  It is an att...           0\n",
       "4193   \"Pride is a personal commitment.  It is an att...           0\n",
       "13528  \"We take great care of our CarePartners so the...           0\n",
       "12007  \"We take great care of our CarePartners so the...           0\n",
       "11806  \"We take great care of our CarePartners so the...           0\n",
       "...                                                  ...         ...\n",
       "4520   •Prepares source data for computer entry by co...           0\n",
       "9992   •    Answering incoming calls and securing ord...           0\n",
       "9196   •    Answering incoming calls and securing ord...           0\n",
       "15441  ￼￼Create, maintain and adjust portfolio of ass...           0\n",
       "8715   ￼￼Create, maintain and adjust portfolio of ass...           0\n",
       "\n",
       "[4268 rows x 2 columns]"
      ]
     },
     "execution_count": 193,
     "metadata": {},
     "output_type": "execute_result"
    }
   ],
   "source": [
    "df[df.duplicated(subset=['description'], keep=False)].sort_values('description')"
   ]
  },
  {
   "cell_type": "code",
   "execution_count": 194,
   "id": "8fd6194e",
   "metadata": {},
   "outputs": [],
   "source": [
    "df.drop_duplicates(subset=['description'], inplace=True)"
   ]
  },
  {
   "cell_type": "code",
   "execution_count": 195,
   "id": "e05f5790",
   "metadata": {},
   "outputs": [
    {
     "name": "stdout",
     "output_type": "stream",
     "text": [
      "<class 'pandas.core.frame.DataFrame'>\n",
      "Index: 14801 entries, 0 to 17878\n",
      "Data columns (total 2 columns):\n",
      " #   Column       Non-Null Count  Dtype \n",
      "---  ------       --------------  ----- \n",
      " 0   description  14801 non-null  object\n",
      " 1   fraudulent   14801 non-null  int64 \n",
      "dtypes: int64(1), object(1)\n",
      "memory usage: 346.9+ KB\n"
     ]
    }
   ],
   "source": [
    "df.info()"
   ]
  },
  {
   "cell_type": "code",
   "execution_count": 197,
   "id": "1ca25ca7",
   "metadata": {},
   "outputs": [
    {
     "data": {
      "text/plain": [
       "fraudulent\n",
       "0    14170\n",
       "1      631\n",
       "Name: count, dtype: int64"
      ]
     },
     "execution_count": 197,
     "metadata": {},
     "output_type": "execute_result"
    }
   ],
   "source": [
    "df['fraudulent'].value_counts()"
   ]
  },
  {
   "cell_type": "code",
   "execution_count": 198,
   "id": "18f1db41",
   "metadata": {},
   "outputs": [
    {
     "data": {
      "text/plain": [
       "fraudulent\n",
       "0    0.957368\n",
       "1    0.042632\n",
       "Name: proportion, dtype: float64"
      ]
     },
     "execution_count": 198,
     "metadata": {},
     "output_type": "execute_result"
    }
   ],
   "source": [
    "df['fraudulent'].value_counts(normalize=True)"
   ]
  },
  {
   "cell_type": "markdown",
   "id": "fbbe33ef",
   "metadata": {},
   "source": [
    "# Check of fraudulent ads"
   ]
  },
  {
   "cell_type": "code",
   "execution_count": 199,
   "id": "4e7b3be0",
   "metadata": {},
   "outputs": [
    {
     "data": {
      "text/plain": [
       "'We are Looking for a person with strong writing skills and demonstrable experience building Microsoft Excel spreadsheets and Microsoft PowerPoint presentations. Must be comfortable interacting with customers and potential customers both on the phone and via e-mail. College Education preferred.Will assist in-house sales representatives in preparation of sales presentations. Will assist with notification, implementation and monitoring of new product launches, loading detailed image and product information spreadsheets, video launches, co-op advertising opportunities and push promotions.Must have strong organizational skills and must be detail oriented. Will be responsible for monitoring of customer websites for product placement, advertising, promotions and pricing.Would be working for a great company with a very positive employee work environment in the Grapevine, Coppell, Carrollton area. Equal Opportunity Employer.'"
      ]
     },
     "execution_count": 199,
     "metadata": {},
     "output_type": "execute_result"
    }
   ],
   "source": [
    "fraud_df = df[df['fraudulent'] == 1]\n",
    "random_row = random.randint(0, len(fraud_df) - 1)\n",
    "fraud_df.iloc[random_row]['description']"
   ]
  },
  {
   "cell_type": "markdown",
   "id": "b3997ee2",
   "metadata": {},
   "source": [
    "### Quick notes\n",
    "- Not all fraudulent look obvious, but some do\n",
    "- Words used: free time, cash, today, no experience needed, from home, day/daily, extra\n",
    "- Numbers in them (?) (x$/day)\n",
    "- URLs?\n",
    "\n",
    "### Examples\n",
    "\n",
    "- 'Cash In Hand Job (Urgent Staff Required)No Experience Required And Never Any Fees.Work Anytime 1 To 2 Hrs Daily In Free Time.Earn Easily $400 To $500 Extra Per Day.Totally Free To Join &amp; Suitable For All.Take Action &amp; Get Started Today.Please contact us.'\n",
    "- We are looking for inbound call representativesWe provide complete training...We pay Daily!$20.00 to $200.00 plus a dayGive us a call TODAY\n",
    "- 'customer service reps needed asap\\xa0'\n",
    "- 'We have several openings available in this area earning $1000.00-$2500.00 per week.\\xa0We are seeking only honest, self-motivated people with a desire to work in the home typing and data entry field, from the comfort of their own homes.The preferred applicants should be at least 18 years old with Internet access. No experience is needed. However the following skills are desirable: \\xa0'\n",
    "- 'Student Positions Part-Time and Full-Time.You can do it all from home, in your free time, at your own place.Spend 30 minutes or 1 hours a day &amp; Get biggest cash.You can work in the morning, afternoon, or at night.Perfect for everyone then start immediately.Can earn $350 to $450 extra per day.No any experience required.Zero start-up fee, Visit here:-#URL_7ebe37f71633be1b80547d6f213cb0075a63b6ced35281bfa5c067b5c685f04c#-rg.info'"
   ]
  },
  {
   "cell_type": "code",
   "execution_count": 240,
   "id": "50f6bb19",
   "metadata": {},
   "outputs": [
    {
     "data": {
      "text/plain": [
       "'We are Netguru and we love to develop web application based on Ruby On Rails framework. We value quality, transparent communication and passion for #URL_29ee3c13b00b08139a947ea0c6a2de501300346e0ebc160486275c4253ff93a2# are always on the lookout for passionate Ruby on Rails developers! If you have talent and skills to deliver the best quality - check out our offer.'"
      ]
     },
     "execution_count": 240,
     "metadata": {},
     "output_type": "execute_result"
    }
   ],
   "source": [
    "real_df = df[df['fraudulent'] == 0]\n",
    "random_row = random.randint(0, len(real_df) - 1)\n",
    "real_df.iloc[random_row]['description']"
   ]
  },
  {
   "cell_type": "code",
   "execution_count": 241,
   "id": "7dbab44a",
   "metadata": {},
   "outputs": [
    {
     "data": {
      "text/plain": [
       "np.float64(178.94015525758644)"
      ]
     },
     "execution_count": 241,
     "metadata": {},
     "output_type": "execute_result"
    }
   ],
   "source": [
    "real_df['description'].str.split().str.len().mean()"
   ]
  },
  {
   "cell_type": "code",
   "execution_count": 242,
   "id": "6793ac5f",
   "metadata": {},
   "outputs": [
    {
     "data": {
      "text/plain": [
       "description\n",
       "and     146656\n",
       "to       80037\n",
       "the      75876\n",
       "of       56884\n",
       "a        52357\n",
       "in       42808\n",
       "for      37356\n",
       "with     33846\n",
       "is       24234\n",
       "our      23509\n",
       "Name: count, dtype: int64"
      ]
     },
     "execution_count": 242,
     "metadata": {},
     "output_type": "execute_result"
    }
   ],
   "source": [
    "real_df['description'].str.split().explode().value_counts().head(10)"
   ]
  },
  {
   "cell_type": "code",
   "execution_count": 243,
   "id": "b9a488c7",
   "metadata": {},
   "outputs": [
    {
     "data": {
      "text/plain": [
       "np.float64(164.63708399366087)"
      ]
     },
     "execution_count": 243,
     "metadata": {},
     "output_type": "execute_result"
    }
   ],
   "source": [
    "# Check for average number of words\n",
    "fraud_df['description'].str.split().str.len().mean()"
   ]
  },
  {
   "cell_type": "code",
   "execution_count": 244,
   "id": "4e3ded0e",
   "metadata": {},
   "outputs": [
    {
     "data": {
      "text/plain": [
       "description\n",
       "and     6348\n",
       "to      3017\n",
       "the     3012\n",
       "of      2153\n",
       "a       1706\n",
       "in      1657\n",
       "for     1488\n",
       "with    1295\n",
       "is       824\n",
       "are      702\n",
       "Name: count, dtype: int64"
      ]
     },
     "execution_count": 244,
     "metadata": {},
     "output_type": "execute_result"
    }
   ],
   "source": [
    "# Check for most common words\n",
    "fraud_df['description'].str.split().explode().value_counts().head(10)"
   ]
  },
  {
   "cell_type": "markdown",
   "id": "e2091255",
   "metadata": {},
   "source": [
    "# MVP"
   ]
  },
  {
   "cell_type": "code",
   "execution_count": null,
   "id": "b1c52cd7",
   "metadata": {},
   "outputs": [],
   "source": [
    "# Split into features and labels\n",
    "X = df['description']\n",
    "y = df['fraudulent']\n",
    "\n",
    "# Train/test split\n",
    "X_train, X_test, y_train, y_test = train_test_split(X, y, stratify=y, test_size=0.3, random_state=42)\n",
    "\n",
    "# TF-IDF Vectorization\n",
    "vectorizer = TfidfVectorizer(stop_words='english', max_features=1000)\n",
    "X_train_tfidf = vectorizer.fit_transform(X_train)\n",
    "X_test_tfidf = vectorizer.transform(X_test)\n",
    "\n",
    "# Train logistic regression model\n",
    "model = LogisticRegression(class_weight='balanced', random_state=42)\n",
    "model.fit(X_train_tfidf, y_train)\n",
    "\n",
    "# Predict and evaluate\n",
    "y_pred = model.predict(X_test_tfidf)\n",
    "report = classification_report(y_test, y_pred, output_dict=True)\n",
    "pd.DataFrame(report).transpose()"
   ]
  },
  {
   "cell_type": "code",
   "execution_count": 247,
   "id": "9b7c12b3",
   "metadata": {},
   "outputs": [
    {
     "data": {
      "text/plain": [
       "['../models/baseline_model.pkl']"
      ]
     },
     "execution_count": 247,
     "metadata": {},
     "output_type": "execute_result"
    }
   ],
   "source": [
    "# Save the model\n",
    "joblib.dump(model, '../models/baseline_model.pkl')"
   ]
  },
  {
   "cell_type": "markdown",
   "id": "a45c0eab",
   "metadata": {},
   "source": [
    "# V2"
   ]
  },
  {
   "cell_type": "code",
   "execution_count": 222,
   "id": "56e6e071",
   "metadata": {},
   "outputs": [],
   "source": [
    "def preprocess_text(text: str) -> str:\n",
    "    text = str(text).lower()\n",
    "    text = text.replace('.', '. ')\n",
    "    text = text.replace('no experience', 'zero experience')\n",
    "    doc = nlp(text)\n",
    "    cleaned_tokens = [\n",
    "        token.lemma_.lower() \n",
    "        for token in doc \n",
    "        if not token.is_stop and not token.is_punct and token.is_alpha\n",
    "    ]\n",
    "    cleaned_text = ' '.join(cleaned_tokens)\n",
    "    \n",
    "    return cleaned_text"
   ]
  },
  {
   "cell_type": "code",
   "execution_count": 223,
   "id": "2d680665",
   "metadata": {},
   "outputs": [
    {
     "name": "stderr",
     "output_type": "stream",
     "text": [
      "/var/folders/77/jck8yw7j0tnbvmcq1mk537vr0000gp/T/ipykernel_4162/3836834404.py:1: SettingWithCopyWarning: \n",
      "A value is trying to be set on a copy of a slice from a DataFrame.\n",
      "Try using .loc[row_indexer,col_indexer] = value instead\n",
      "\n",
      "See the caveats in the documentation: https://pandas.pydata.org/pandas-docs/stable/user_guide/indexing.html#returning-a-view-versus-a-copy\n",
      "  fraud_df['description_cleaned'] = fraud_df['description'].apply(preprocess_text)\n"
     ]
    }
   ],
   "source": [
    "fraud_df['description_cleaned'] = fraud_df['description'].apply(preprocess_text)"
   ]
  },
  {
   "cell_type": "code",
   "execution_count": 224,
   "id": "fb13d0cd",
   "metadata": {},
   "outputs": [
    {
     "data": {
      "text/html": [
       "<div>\n",
       "<style scoped>\n",
       "    .dataframe tbody tr th:only-of-type {\n",
       "        vertical-align: middle;\n",
       "    }\n",
       "\n",
       "    .dataframe tbody tr th {\n",
       "        vertical-align: top;\n",
       "    }\n",
       "\n",
       "    .dataframe thead th {\n",
       "        text-align: right;\n",
       "    }\n",
       "</style>\n",
       "<table border=\"1\" class=\"dataframe\">\n",
       "  <thead>\n",
       "    <tr style=\"text-align: right;\">\n",
       "      <th></th>\n",
       "      <th>description</th>\n",
       "      <th>fraudulent</th>\n",
       "      <th>description_cleaned</th>\n",
       "    </tr>\n",
       "  </thead>\n",
       "  <tbody>\n",
       "    <tr>\n",
       "      <th>98</th>\n",
       "      <td>IC&amp;amp;E Technician | Bakersfield, CA Mt. Poso...</td>\n",
       "      <td>1</td>\n",
       "      <td>technician bakersfield mt posoprincipal duty r...</td>\n",
       "    </tr>\n",
       "    <tr>\n",
       "      <th>144</th>\n",
       "      <td>The group has raised a fund for the purchase o...</td>\n",
       "      <td>1</td>\n",
       "      <td>group raise fund purchase home southeast stude...</td>\n",
       "    </tr>\n",
       "    <tr>\n",
       "      <th>173</th>\n",
       "      <td>Technician Instrument &amp;amp; ControlsLocation D...</td>\n",
       "      <td>1</td>\n",
       "      <td>technician instrument amp controlslocation dew...</td>\n",
       "    </tr>\n",
       "    <tr>\n",
       "      <th>180</th>\n",
       "      <td>Sales Executive</td>\n",
       "      <td>1</td>\n",
       "      <td>sale executive</td>\n",
       "    </tr>\n",
       "    <tr>\n",
       "      <th>215</th>\n",
       "      <td>IC&amp;amp;E Technician | Bakersfield, CA Mt. Poso...</td>\n",
       "      <td>1</td>\n",
       "      <td>technician bakersfield mt posoprincipal duty r...</td>\n",
       "    </tr>\n",
       "  </tbody>\n",
       "</table>\n",
       "</div>"
      ],
      "text/plain": [
       "                                           description  fraudulent  \\\n",
       "98   IC&amp;E Technician | Bakersfield, CA Mt. Poso...           1   \n",
       "144  The group has raised a fund for the purchase o...           1   \n",
       "173  Technician Instrument &amp; ControlsLocation D...           1   \n",
       "180                                    Sales Executive           1   \n",
       "215  IC&amp;E Technician | Bakersfield, CA Mt. Poso...           1   \n",
       "\n",
       "                                   description_cleaned  \n",
       "98   technician bakersfield mt posoprincipal duty r...  \n",
       "144  group raise fund purchase home southeast stude...  \n",
       "173  technician instrument amp controlslocation dew...  \n",
       "180                                     sale executive  \n",
       "215  technician bakersfield mt posoprincipal duty r...  "
      ]
     },
     "execution_count": 224,
     "metadata": {},
     "output_type": "execute_result"
    }
   ],
   "source": [
    "fraud_df.head()"
   ]
  },
  {
   "cell_type": "code",
   "execution_count": 225,
   "id": "6c52af07",
   "metadata": {},
   "outputs": [
    {
     "data": {
      "text/plain": [
       "description\n",
       "and     6348\n",
       "to      3017\n",
       "the     3012\n",
       "of      2153\n",
       "a       1706\n",
       "in      1657\n",
       "for     1488\n",
       "with    1295\n",
       "is       824\n",
       "are      702\n",
       "Name: count, dtype: int64"
      ]
     },
     "execution_count": 225,
     "metadata": {},
     "output_type": "execute_result"
    }
   ],
   "source": [
    "fraud_df['description'].str.split().explode().value_counts().head(10)"
   ]
  },
  {
   "cell_type": "code",
   "execution_count": 226,
   "id": "c7dd9769",
   "metadata": {},
   "outputs": [
    {
     "data": {
      "text/plain": [
       "description_cleaned\n",
       "work          809\n",
       "service       584\n",
       "customer      520\n",
       "project       500\n",
       "product       457\n",
       "team          453\n",
       "experience    421\n",
       "company       409\n",
       "provide       403\n",
       "position      402\n",
       "Name: count, dtype: int64"
      ]
     },
     "execution_count": 226,
     "metadata": {},
     "output_type": "execute_result"
    }
   ],
   "source": [
    "fraud_df['description_cleaned'].str.split().explode().value_counts().head(10)"
   ]
  },
  {
   "cell_type": "code",
   "execution_count": null,
   "id": "422d138c",
   "metadata": {},
   "outputs": [
    {
     "name": "stderr",
     "output_type": "stream",
     "text": [
      "/var/folders/77/jck8yw7j0tnbvmcq1mk537vr0000gp/T/ipykernel_4162/1637142290.py:1: SettingWithCopyWarning: \n",
      "A value is trying to be set on a copy of a slice from a DataFrame.\n",
      "Try using .loc[row_indexer,col_indexer] = value instead\n",
      "\n",
      "See the caveats in the documentation: https://pandas.pydata.org/pandas-docs/stable/user_guide/indexing.html#returning-a-view-versus-a-copy\n",
      "  real_df['description_cleaned'] = real_df['description'].apply(preprocess_text)\n"
     ]
    }
   ],
   "source": [
    "real_df['description_cleaned'] = real_df['description'].apply(preprocess_text)\n",
    "real_df.head()"
   ]
  },
  {
   "cell_type": "code",
   "execution_count": 229,
   "id": "6113b704",
   "metadata": {},
   "outputs": [
    {
     "data": {
      "text/plain": [
       "description_cleaned\n",
       "team          18677\n",
       "work          18446\n",
       "customer      12127\n",
       "service       10431\n",
       "company       10052\n",
       "business      10041\n",
       "product        9960\n",
       "client         9947\n",
       "experience     9569\n",
       "new            8521\n",
       "Name: count, dtype: int64"
      ]
     },
     "execution_count": 229,
     "metadata": {},
     "output_type": "execute_result"
    }
   ],
   "source": [
    "real_df['description_cleaned'].str.split().explode().value_counts().head(10)"
   ]
  },
  {
   "cell_type": "code",
   "execution_count": null,
   "id": "bc1a094b",
   "metadata": {},
   "outputs": [
    {
     "data": {
      "text/plain": [
       "fraudulent\n",
       "0    14170\n",
       "1      631\n",
       "Name: count, dtype: int64"
      ]
     },
     "execution_count": 230,
     "metadata": {},
     "output_type": "execute_result"
    }
   ],
   "source": [
    "df_cleaned = pd.concat([fraud_df[['description_cleaned', 'fraudulent']], \n",
    "                         real_df[['description_cleaned', 'fraudulent']]], \n",
    "                        ignore_index=True)\n",
    "df_cleaned.head()"
   ]
  },
  {
   "cell_type": "code",
   "execution_count": null,
   "id": "6d63d1f4",
   "metadata": {},
   "outputs": [
    {
     "data": {
      "text/html": [
       "<div>\n",
       "<style scoped>\n",
       "    .dataframe tbody tr th:only-of-type {\n",
       "        vertical-align: middle;\n",
       "    }\n",
       "\n",
       "    .dataframe tbody tr th {\n",
       "        vertical-align: top;\n",
       "    }\n",
       "\n",
       "    .dataframe thead th {\n",
       "        text-align: right;\n",
       "    }\n",
       "</style>\n",
       "<table border=\"1\" class=\"dataframe\">\n",
       "  <thead>\n",
       "    <tr style=\"text-align: right;\">\n",
       "      <th></th>\n",
       "      <th>precision</th>\n",
       "      <th>recall</th>\n",
       "      <th>f1-score</th>\n",
       "      <th>support</th>\n",
       "    </tr>\n",
       "  </thead>\n",
       "  <tbody>\n",
       "    <tr>\n",
       "      <th>0</th>\n",
       "      <td>0.986018</td>\n",
       "      <td>0.895579</td>\n",
       "      <td>0.938625</td>\n",
       "      <td>4252.000000</td>\n",
       "    </tr>\n",
       "    <tr>\n",
       "      <th>1</th>\n",
       "      <td>0.233161</td>\n",
       "      <td>0.714286</td>\n",
       "      <td>0.351562</td>\n",
       "      <td>189.000000</td>\n",
       "    </tr>\n",
       "    <tr>\n",
       "      <th>accuracy</th>\n",
       "      <td>0.887863</td>\n",
       "      <td>0.887863</td>\n",
       "      <td>0.887863</td>\n",
       "      <td>0.887863</td>\n",
       "    </tr>\n",
       "    <tr>\n",
       "      <th>macro avg</th>\n",
       "      <td>0.609589</td>\n",
       "      <td>0.804932</td>\n",
       "      <td>0.645094</td>\n",
       "      <td>4441.000000</td>\n",
       "    </tr>\n",
       "    <tr>\n",
       "      <th>weighted avg</th>\n",
       "      <td>0.953978</td>\n",
       "      <td>0.887863</td>\n",
       "      <td>0.913640</td>\n",
       "      <td>4441.000000</td>\n",
       "    </tr>\n",
       "  </tbody>\n",
       "</table>\n",
       "</div>"
      ],
      "text/plain": [
       "              precision    recall  f1-score      support\n",
       "0              0.986018  0.895579  0.938625  4252.000000\n",
       "1              0.233161  0.714286  0.351562   189.000000\n",
       "accuracy       0.887863  0.887863  0.887863     0.887863\n",
       "macro avg      0.609589  0.804932  0.645094  4441.000000\n",
       "weighted avg   0.953978  0.887863  0.913640  4441.000000"
      ]
     },
     "execution_count": 239,
     "metadata": {},
     "output_type": "execute_result"
    }
   ],
   "source": [
    "X = df_cleaned['description_cleaned']\n",
    "y = df_cleaned['fraudulent']\n",
    "\n",
    "X_train, X_test, y_train, y_test = train_test_split(X, y, stratify=y, test_size=0.3, random_state=42)\n",
    "\n",
    "vectorizer = TfidfVectorizer(stop_words='english', max_features=1000)\n",
    "X_train_tfidf = vectorizer.fit_transform(X_train)\n",
    "X_test_tfidf = vectorizer.transform(X_test)\n",
    "\n",
    "# Train logistic regression model\n",
    "model = LogisticRegression(class_weight='balanced', random_state=42)\n",
    "model.fit(X_train_tfidf, y_train)\n",
    "\n",
    "y_pred = model.predict(X_test_tfidf)\n",
    "report = classification_report(y_test, y_pred, output_dict=True)\n",
    "pd.DataFrame(report).transpose()"
   ]
  }
 ],
 "metadata": {
  "kernelspec": {
   "display_name": "datawizard",
   "language": "python",
   "name": "python3"
  },
  "language_info": {
   "codemirror_mode": {
    "name": "ipython",
    "version": 3
   },
   "file_extension": ".py",
   "mimetype": "text/x-python",
   "name": "python",
   "nbconvert_exporter": "python",
   "pygments_lexer": "ipython3",
   "version": "3.10.16"
  }
 },
 "nbformat": 4,
 "nbformat_minor": 5
}
